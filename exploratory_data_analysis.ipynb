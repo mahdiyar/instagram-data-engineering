{
 "cells": [
  {
   "cell_type": "code",
   "execution_count": 31,
   "metadata": {
    "collapsed": false
   },
   "outputs": [],
   "source": [
    "import cnfg\n",
    "import pandas as pd\n",
    "import numpy as np\n",
    "from sqlalchemy import create_engine\n",
    "from sqlalchemy.orm import sessionmaker\n",
    "from sqlalchemy.orm.exc import NoResultFound\n",
    "from instagram.client import InstagramAPI \n",
    "from sklearn.feature_extraction.text import CountVectorizer"
   ]
  },
  {
   "cell_type": "code",
   "execution_count": 5,
   "metadata": {
    "collapsed": true
   },
   "outputs": [],
   "source": [
    "from db_setup import Base, User, Media, Follower\n",
    "from models import get_user_id, commit_to_db, session"
   ]
  },
  {
   "cell_type": "code",
   "execution_count": 6,
   "metadata": {
    "collapsed": true
   },
   "outputs": [],
   "source": [
    "config = cnfg.load(\".instagram_config\")\n",
    "api = InstagramAPI(client_id=config['CLIENT_ID'],client_secret=config['CLIENT_SECRET'])"
   ]
  },
  {
   "cell_type": "code",
   "execution_count": 7,
   "metadata": {
    "collapsed": false
   },
   "outputs": [],
   "source": [
    "key_id = get_user_id('jstnstwrt')"
   ]
  },
  {
   "cell_type": "code",
   "execution_count": 9,
   "metadata": {
    "collapsed": true
   },
   "outputs": [],
   "source": [
    "list_of_followers = session.query(Follower).filter_by(user_id=key_id)"
   ]
  },
  {
   "cell_type": "code",
   "execution_count": 12,
   "metadata": {
    "collapsed": false
   },
   "outputs": [],
   "source": [
    "def store_user_location(user_id):\n",
    "    try:\n",
    "        newUser = session.query(User).filter_by(user_id=user_id).one()\n",
    "        media =  session.query(Media).filter_by(user_id=user_id).filter(Media.latitude != None).limit(1)\n",
    "        try:\n",
    "            newUser.latitude = str(media[0].latitude)\n",
    "            newUser.longitude = str(media[0].longitude)\n",
    "            commit_to_db(newUser)\n",
    "        except IndexError:\n",
    "            print 'User has no geo tags'\n",
    "    except NoResultFound:\n",
    "        print 'User is private'"
   ]
  },
  {
   "cell_type": "code",
   "execution_count": 8,
   "metadata": {
    "collapsed": true
   },
   "outputs": [],
   "source": [
    "sql_query = 'select user.id,user.user_id,bio,num_followers,num_following,num_posts,latitude,longitude from user join follower on user.user_id = follower.follower_id where follower.user_id=332324252'"
   ]
  },
  {
   "cell_type": "code",
   "execution_count": 9,
   "metadata": {
    "collapsed": false
   },
   "outputs": [],
   "source": [
    "df = pd.read_sql_query(sql_query,con='sqlite:///instagram.sqlite')"
   ]
  },
  {
   "cell_type": "code",
   "execution_count": 10,
   "metadata": {
    "collapsed": false
   },
   "outputs": [
    {
     "data": {
      "text/plain": [
       "(491, 8)"
      ]
     },
     "execution_count": 10,
     "metadata": {},
     "output_type": "execute_result"
    }
   ],
   "source": [
    "df.shape"
   ]
  },
  {
   "cell_type": "code",
   "execution_count": 7,
   "metadata": {
    "collapsed": false
   },
   "outputs": [
    {
     "data": {
      "text/plain": [
       "0    Earth: you don't have to be crazy to live here...\n",
       "1                                                     \n",
       "2    Hand-crafted wedding dresses born from happine...\n",
       "3                                                   Oi\n",
       "4    Freelance Fashion Portrait Photographer in Lon...\n",
       "Name: bio, dtype: object"
      ]
     },
     "execution_count": 7,
     "metadata": {},
     "output_type": "execute_result"
    }
   ],
   "source": [
    "df.bio[:5]"
   ]
  },
  {
   "cell_type": "code",
   "execution_count": 1,
   "metadata": {
    "collapsed": true
   },
   "outputs": [],
   "source": [
    "import re\n",
    "import nltk\n",
    "from nltk.corpus import stopwords\n",
    "from string import punctuation, digits, ascii_lowercase"
   ]
  },
  {
   "cell_type": "code",
   "execution_count": 11,
   "metadata": {
    "collapsed": true
   },
   "outputs": [],
   "source": [
    "escapes = ''.join([chr(char) for char in range(1, 32)])\n",
    "removeables = escapes + digits \n",
    "stops = [str(word) for word in stopwords.words('english')] + list(ascii_lowercase)\n",
    "sno = nltk.stem.SnowballStemmer('english')"
   ]
  },
  {
   "cell_type": "code",
   "execution_count": 25,
   "metadata": {
    "collapsed": true
   },
   "outputs": [],
   "source": [
    "def parse_text(text, stem=False):\n",
    "    ''' This function takes a review string and removes all escape sequences,\n",
    "        digits, punctuation, http links, and stop words. Furthermore, every\n",
    "        word in the string will be stemmed using nltk's snowball stemmer.\n",
    "        Every word is also transformed to be lowercase.'''\n",
    "    \n",
    "    text = re.sub(r\"http\\S+\", \" \", text)\n",
    "    regex = re.compile('[%s]' % re.escape(punctuation))\n",
    "    text = regex.sub(' ', text)\n",
    "    text = text.translate({ord(c): None for c in removeables})\n",
    "#     text = text.decode('utf8')\n",
    "    if stem == True:\n",
    "        text = ' '.join([sno.stem(word.lower()) for word in text.split() if word.lower() not in set(stops)])\n",
    "    else:\n",
    "        text = ' '.join([word.lower() for word in text.split() if word.lower() not in set(stops)])\n",
    "    return text"
   ]
  },
  {
   "cell_type": "code",
   "execution_count": 26,
   "metadata": {
    "collapsed": false
   },
   "outputs": [],
   "source": [
    "df['bio_parsed']=df.bio.apply(parse_text)"
   ]
  },
  {
   "cell_type": "code",
   "execution_count": 28,
   "metadata": {
    "collapsed": false
   },
   "outputs": [
    {
     "data": {
      "text/plain": [
       "0              earth crazy live helps columbia records\n",
       "1                                                     \n",
       "2    hand crafted wedding dresses born happiness la...\n",
       "3                                                   oi\n",
       "4    freelance fashion portrait photographer london...\n",
       "5    producer engineer credits joell ortiz troy ave...\n",
       "6    sharing rawrrrchell love passion food follow l...\n",
       "7                                                     \n",
       "8    friend businessman investor living nyc founder...\n",
       "9                                                     \n",
       "Name: bio_parsed, dtype: object"
      ]
     },
     "execution_count": 28,
     "metadata": {},
     "output_type": "execute_result"
    }
   ],
   "source": [
    "df.bio_parsed[:10]"
   ]
  },
  {
   "cell_type": "code",
   "execution_count": 29,
   "metadata": {
    "collapsed": true
   },
   "outputs": [],
   "source": [
    "corpus = df.bio_parsed.tolist()"
   ]
  },
  {
   "cell_type": "code",
   "execution_count": 34,
   "metadata": {
    "collapsed": false
   },
   "outputs": [],
   "source": [
    "count_vect = CountVectorizer()\n",
    "X_counts = count_vect.fit_transform(corpus)\n",
    "words = count_vect.get_feature_names()\n",
    "counts = X_counts.toarray()"
   ]
  },
  {
   "cell_type": "code",
   "execution_count": 36,
   "metadata": {
    "collapsed": false
   },
   "outputs": [],
   "source": [
    "bios = pd.DataFrame(counts)\n",
    "bios.columns = words"
   ]
  },
  {
   "cell_type": "code",
   "execution_count": 37,
   "metadata": {
    "collapsed": false
   },
   "outputs": [
    {
     "data": {
      "text/plain": [
       "(491, 1559)"
      ]
     },
     "execution_count": 37,
     "metadata": {},
     "output_type": "execute_result"
    }
   ],
   "source": [
    "bios.shape"
   ]
  }
 ],
 "metadata": {
  "kernelspec": {
   "display_name": "Python 2",
   "language": "python",
   "name": "python2"
  },
  "language_info": {
   "codemirror_mode": {
    "name": "ipython",
    "version": 2
   },
   "file_extension": ".py",
   "mimetype": "text/x-python",
   "name": "python",
   "nbconvert_exporter": "python",
   "pygments_lexer": "ipython2",
   "version": "2.7.11"
  }
 },
 "nbformat": 4,
 "nbformat_minor": 0
}
