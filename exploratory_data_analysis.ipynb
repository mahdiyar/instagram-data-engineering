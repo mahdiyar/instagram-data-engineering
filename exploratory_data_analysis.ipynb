{
 "cells": [
  {
   "cell_type": "code",
   "execution_count": 5,
   "metadata": {
    "collapsed": false
   },
   "outputs": [],
   "source": [
    "import cnfg\n",
    "import pandas as pd\n",
    "import numpy as np\n",
    "from sqlalchemy import create_engine\n",
    "from sqlalchemy.orm import sessionmaker\n",
    "from sqlalchemy.orm.exc import NoResultFound\n",
    "from instagram.client import InstagramAPI "
   ]
  },
  {
   "cell_type": "code",
   "execution_count": 6,
   "metadata": {
    "collapsed": true
   },
   "outputs": [],
   "source": [
    "from db_setup import Base, User, Media, Follower\n",
    "from models import get_user_id, commit_to_db, session"
   ]
  },
  {
   "cell_type": "code",
   "execution_count": 7,
   "metadata": {
    "collapsed": true
   },
   "outputs": [],
   "source": [
    "config = cnfg.load(\".instagram_config\")\n",
    "api = InstagramAPI(client_id=config['CLIENT_ID'],client_secret=config['CLIENT_SECRET'])"
   ]
  },
  {
   "cell_type": "code",
   "execution_count": 8,
   "metadata": {
    "collapsed": false
   },
   "outputs": [],
   "source": [
    "key_id = get_user_id('jstnstwrt')"
   ]
  },
  {
   "cell_type": "code",
   "execution_count": 9,
   "metadata": {
    "collapsed": true
   },
   "outputs": [],
   "source": [
    "list_of_followers = session.query(Follower).filter_by(user_id=key_id)"
   ]
  },
  {
   "cell_type": "code",
   "execution_count": 12,
   "metadata": {
    "collapsed": false
   },
   "outputs": [],
   "source": [
    "def store_user_location(user_id):\n",
    "    try:\n",
    "        newUser = session.query(User).filter_by(user_id=user_id).one()\n",
    "        media =  session.query(Media).filter_by(user_id=user_id).filter(Media.latitude != None).limit(1)\n",
    "        try:\n",
    "            newUser.latitude = str(media[0].latitude)\n",
    "            newUser.longitude = str(media[0].longitude)\n",
    "            commit_to_db(newUser)\n",
    "        except IndexError:\n",
    "            print 'User has no geo tags'\n",
    "    except NoResultFound:\n",
    "        print 'User is private'"
   ]
  },
  {
   "cell_type": "code",
   "execution_count": 10,
   "metadata": {
    "collapsed": true
   },
   "outputs": [],
   "source": [
    "sql_query = 'select user.id,user.user_id,bio,num_followers,num_following,num_posts,latitude,longitude from user join follower on user.user_id = follower.follower_id where follower.user_id=332324252'"
   ]
  },
  {
   "cell_type": "code",
   "execution_count": 17,
   "metadata": {
    "collapsed": false
   },
   "outputs": [],
   "source": [
    "df = pd.read_sql_query(sql_query,con='sqlite:///instagram.sqlite')"
   ]
  },
  {
   "cell_type": "code",
   "execution_count": 19,
   "metadata": {
    "collapsed": false
   },
   "outputs": [
    {
     "data": {
      "text/plain": [
       "Index([u'id', u'user_id', u'bio', u'num_followers', u'num_following',\n",
       "       u'num_posts', u'latitude', u'longitude'],\n",
       "      dtype='object')"
      ]
     },
     "execution_count": 19,
     "metadata": {},
     "output_type": "execute_result"
    }
   ],
   "source": [
    "df.columns"
   ]
  }
 ],
 "metadata": {
  "kernelspec": {
   "display_name": "Python 2",
   "language": "python",
   "name": "python2"
  },
  "language_info": {
   "codemirror_mode": {
    "name": "ipython",
    "version": 2
   },
   "file_extension": ".py",
   "mimetype": "text/x-python",
   "name": "python",
   "nbconvert_exporter": "python",
   "pygments_lexer": "ipython2",
   "version": "2.7.10"
  }
 },
 "nbformat": 4,
 "nbformat_minor": 0
}
